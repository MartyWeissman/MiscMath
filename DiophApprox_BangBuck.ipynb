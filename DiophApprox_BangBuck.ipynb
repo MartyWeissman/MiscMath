{
  "nbformat": 4,
  "nbformat_minor": 0,
  "metadata": {
    "colab": {
      "provenance": [],
      "authorship_tag": "ABX9TyNvMGJgVJmtW+oj2S/5re7S",
      "include_colab_link": true
    },
    "kernelspec": {
      "name": "python3",
      "display_name": "Python 3"
    },
    "language_info": {
      "name": "python"
    }
  },
  "cells": [
    {
      "cell_type": "markdown",
      "metadata": {
        "id": "view-in-github",
        "colab_type": "text"
      },
      "source": [
        "<a href=\"https://colab.research.google.com/github/MartyWeissman/MiscMath/blob/main/DiophApprox_BangBuck.ipynb\" target=\"_parent\"><img src=\"https://colab.research.google.com/assets/colab-badge.svg\" alt=\"Open In Colab\"/></a>"
      ]
    },
    {
      "cell_type": "code",
      "execution_count": 1,
      "metadata": {
        "id": "aDherGnrIBiT"
      },
      "outputs": [],
      "source": [
        "import numpy as np\n",
        "import matplotlib.pyplot as plt\n",
        "from mpmath import mp"
      ]
    },
    {
      "cell_type": "code",
      "source": [
        "mp.dps = 200"
      ],
      "metadata": {
        "id": "l7ePeP8TIH0o"
      },
      "execution_count": 4,
      "outputs": []
    },
    {
      "cell_type": "code",
      "source": [
        "print(mp.pi)"
      ],
      "metadata": {
        "colab": {
          "base_uri": "https://localhost:8080/"
        },
        "id": "XnlA2LGfIIeu",
        "outputId": "06513cd7-8724-46e4-aaa8-227f530fb893"
      },
      "execution_count": 5,
      "outputs": [
        {
          "output_type": "stream",
          "name": "stdout",
          "text": [
            "3.141592653589793238462643383279502884197169399375105820974944592307816406286208998628034825342117067982148086513282306647093844609550582231725359408128481117450284102701938521105559644622948954930382\n"
          ]
        }
      ]
    },
    {
      "cell_type": "code",
      "source": [
        "print(mp.sqrt(2))"
      ],
      "metadata": {
        "colab": {
          "base_uri": "https://localhost:8080/"
        },
        "id": "s9BGAaQwIJfi",
        "outputId": "0e675d7b-4d0a-4939-8ac6-0924fc6fadff"
      },
      "execution_count": 6,
      "outputs": [
        {
          "output_type": "stream",
          "name": "stdout",
          "text": [
            "1.4142135623730950488016887242096980785696718753769480731766797379907324784621070388503875343276415727350138462309122970249248360558507372126441214970999358314132226659275055927557999505011527820605715\n"
          ]
        }
      ]
    },
    {
      "cell_type": "code",
      "source": [
        "print(mp.e)"
      ],
      "metadata": {
        "colab": {
          "base_uri": "https://localhost:8080/"
        },
        "id": "yheWxSWDIPi7",
        "outputId": "c9ae0f4d-397d-4ba5-9157-b72d09464903"
      },
      "execution_count": 7,
      "outputs": [
        {
          "output_type": "stream",
          "name": "stdout",
          "text": [
            "2.718281828459045235360287471352662497757247093699959574966967627724076630353547594571382178525166427427466391932003059921817413596629043572900334295260595630738132328627943490763233829880753195251019\n"
          ]
        }
      ]
    },
    {
      "cell_type": "code",
      "source": [
        "def bangbuck(p,q,x):\n",
        "  ratl = mp.mpf(p) / mp.mpf(q)\n",
        "  acc = mp.fabs(ratl - x)\n",
        "  buck = mp.log10(q)\n",
        "  bang = -mp.log10(acc)\n",
        "  return bang,buck"
      ],
      "metadata": {
        "id": "wySXXmciIQpu"
      },
      "execution_count": 55,
      "outputs": []
    },
    {
      "cell_type": "code",
      "source": [
        "bangbuck(314,100,mp.pi)"
      ],
      "metadata": {
        "colab": {
          "base_uri": "https://localhost:8080/"
        },
        "id": "agpsZmQPIkjQ",
        "outputId": "b8b3e3da-5a35-4443-8b52-0deae3276601"
      },
      "execution_count": 57,
      "outputs": [
        {
          "output_type": "execute_result",
          "data": {
            "text/plain": [
              "(mpf('2.7978786751726633239470487288964005983770774322817581659357683437997898340977303702328131594328245579626338444052311510456393576664938013091871823070502987771866961290261033711771358476787487968690987415'),\n",
              " mpf('2.0'))"
            ]
          },
          "metadata": {},
          "execution_count": 57
        }
      ]
    },
    {
      "cell_type": "code",
      "source": [
        "mp.floor(mp.pi)"
      ],
      "metadata": {
        "colab": {
          "base_uri": "https://localhost:8080/"
        },
        "id": "is1_qB5FMQGE",
        "outputId": "932cf834-5d87-4d5d-c19a-1067b1b2718e"
      },
      "execution_count": 20,
      "outputs": [
        {
          "output_type": "execute_result",
          "data": {
            "text/plain": [
              "mpf('3.0')"
            ]
          },
          "metadata": {},
          "execution_count": 20
        }
      ]
    },
    {
      "cell_type": "code",
      "source": [
        "def contfrac(x, num_terms=50):\n",
        "  alist = [0] * num_terms\n",
        "  curr_x = x\n",
        "  for t in range(num_terms):\n",
        "    a_new = mp.floor(curr_x)\n",
        "    curr_x = mp.mpf(1.0) / (curr_x - a_new)\n",
        "    alist[t] = int(a_new)\n",
        "  plist = [0] * num_terms\n",
        "  qlist = [0] * num_terms\n",
        "  plist[0] = alist[0]\n",
        "  qlist[0] = 1\n",
        "  plist[1] = alist[0]*alist[1] + 1\n",
        "  qlist[1] = alist[1]\n",
        "  for t in range(2,num_terms):\n",
        "    plist[t] = alist[t] * plist[t-1] + plist[t-2]\n",
        "    qlist[t] = alist[t] * qlist[t-1] + qlist[t-2]\n",
        "  rlist = [0] * num_terms\n",
        "  for t in range(num_terms):\n",
        "    rlist[t] = mp.mpf(plist[t]) / mp.mpf(qlist[t])\n",
        "  return alist, plist, qlist, rlist"
      ],
      "metadata": {
        "id": "8tiL1YQvIl1r"
      },
      "execution_count": 41,
      "outputs": []
    },
    {
      "cell_type": "code",
      "source": [
        "def decfrac(x, num_terms = 50):\n",
        "  plist = [0] * num_terms\n",
        "  qlist = [0] * num_terms\n",
        "  rlist = [0] * num_terms\n",
        "  for t in range(num_terms):\n",
        "    plist[t] = int(mp.floor(x * (10**t)))\n",
        "    qlist[t] = 10**t\n",
        "    rlist[t] = mp.mpf(plist[t]) / mp.mpf(qlist[t])\n",
        "  return plist, qlist, rlist"
      ],
      "metadata": {
        "id": "BfmrCQd2IuIP"
      },
      "execution_count": 47,
      "outputs": []
    },
    {
      "cell_type": "code",
      "source": [
        "p,q,r = decfrac(mp.pi)"
      ],
      "metadata": {
        "id": "nFtBbEl5Vl6X"
      },
      "execution_count": 48,
      "outputs": []
    },
    {
      "cell_type": "code",
      "source": [],
      "metadata": {
        "id": "o9nO6GohYIMK"
      },
      "execution_count": null,
      "outputs": []
    }
  ]
}